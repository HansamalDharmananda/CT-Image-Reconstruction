{
  "nbformat": 4,
  "nbformat_minor": 0,
  "metadata": {
    "colab": {
      "name": "CT Image Reconstruction.ipynb",
      "provenance": [],
      "collapsed_sections": []
    },
    "kernelspec": {
      "name": "python3",
      "display_name": "Python 3"
    },
    "language_info": {
      "name": "python"
    }
  },
  "cells": [
    {
      "cell_type": "code",
      "metadata": {
        "id": "JQAHRwvV9_Q7"
      },
      "source": [
        "import numpy as np\n",
        "original_image = np.random.randint(1,10, size=(5,5)) # generate the original image"
      ],
      "execution_count": 1,
      "outputs": []
    },
    {
      "cell_type": "code",
      "metadata": {
        "colab": {
          "base_uri": "https://localhost:8080/"
        },
        "id": "YkQCuJL2Ewv2",
        "outputId": "246fc2d7-5d53-4f15-a603-438cbdeca279"
      },
      "source": [
        "original_image"
      ],
      "execution_count": 2,
      "outputs": [
        {
          "output_type": "execute_result",
          "data": {
            "text/plain": [
              "array([[8, 9, 2, 4, 9],\n",
              "       [5, 2, 8, 5, 1],\n",
              "       [7, 8, 2, 4, 6],\n",
              "       [7, 7, 8, 2, 8],\n",
              "       [3, 5, 5, 9, 7]])"
            ]
          },
          "metadata": {
            "tags": []
          },
          "execution_count": 2
        }
      ]
    },
    {
      "cell_type": "code",
      "metadata": {
        "id": "8am11L-8Exqx"
      },
      "source": [
        "orig_column_sum = np.sum(original_image,axis=0) \n",
        "orig_raw_sum    = np.sum(original_image,axis=1) \n",
        "\n",
        "orig_diag_main_1 = np.trace(original_image, offset=3)\n",
        "orig_diag_main_2 = np.trace(original_image, offset=2)\n",
        "orig_diag_main_3 = np.trace(original_image, offset=1)\n",
        "\n",
        "orig_diag_main_m = np.trace(original_image, offset=0)\n",
        "\n",
        "orig_diag_main_5 = np.trace(original_image, offset=-1)\n",
        "orig_diag_main_6 = np.trace(original_image, offset=-2)\n",
        "orig_diag_main_7 = np.trace(original_image, offset=-3)\n",
        "\n",
        "\n",
        "orig_diag_sub_1 = original_image[::-1].trace(offset=-3)\n",
        "orig_diag_sub_2 = original_image[::-1].trace(offset=-2)\n",
        "orig_diag_sub_3 = original_image[::-1].trace(offset=-1)\n",
        "\n",
        "orig_diag_sub_m = original_image[::-1].trace(offset=0)\n",
        "\n",
        "orig_diag_sub_5 = original_image[::-1].trace(offset=1)\n",
        "orig_diag_sub_6 = original_image[::-1].trace(offset=2)\n",
        "orig_diag_sub_7 = original_image[::-1].trace(offset=3)"
      ],
      "execution_count": 3,
      "outputs": []
    },
    {
      "cell_type": "code",
      "metadata": {
        "colab": {
          "base_uri": "https://localhost:8080/"
        },
        "id": "cnzDt8kqwkKO",
        "outputId": "9adc9720-46a6-4477-9d79-36f08156a8ba"
      },
      "source": [
        "print(orig_column_sum)\n",
        "print(orig_diag_sub_1)"
      ],
      "execution_count": 4,
      "outputs": [
        {
          "output_type": "stream",
          "text": [
            "[30 31 25 24 31]\n",
            "14\n"
          ],
          "name": "stdout"
        }
      ]
    },
    {
      "cell_type": "code",
      "metadata": {
        "id": "zcdbYiBo0Tx4"
      },
      "source": [
        "random_image = np.zeros((5, 5))\n",
        "\n",
        "for i in range(5):\n",
        "  random_image[i][:] = orig_column_sum[i]/5 # image to be constructed"
      ],
      "execution_count": 5,
      "outputs": []
    },
    {
      "cell_type": "code",
      "metadata": {
        "colab": {
          "base_uri": "https://localhost:8080/"
        },
        "id": "-lteC1gP1DxE",
        "outputId": "e177c225-f133-41c0-95db-0ca16850b962"
      },
      "source": [
        "random_image"
      ],
      "execution_count": 6,
      "outputs": [
        {
          "output_type": "execute_result",
          "data": {
            "text/plain": [
              "array([[6. , 6. , 6. , 6. , 6. ],\n",
              "       [6.2, 6.2, 6.2, 6.2, 6.2],\n",
              "       [5. , 5. , 5. , 5. , 5. ],\n",
              "       [4.8, 4.8, 4.8, 4.8, 4.8],\n",
              "       [6.2, 6.2, 6.2, 6.2, 6.2]])"
            ]
          },
          "metadata": {
            "tags": []
          },
          "execution_count": 6
        }
      ]
    },
    {
      "cell_type": "markdown",
      "metadata": {
        "id": "rW72iVt5GiEe"
      },
      "source": [
        "# Q1) Using 4 different projections."
      ]
    },
    {
      "cell_type": "code",
      "metadata": {
        "id": "Zgu33LO2N0wW"
      },
      "source": [
        "err = []\n",
        "# err.append(None) # assign value just for initialization\n",
        "k=0\n",
        "\n",
        "while True:\n",
        "# for i in range(6):\n",
        "\n",
        "  # raw correction\n",
        "  rand_raw_sum = np.empty(5, dtype=object) \n",
        "\n",
        "  for i in range(5):\n",
        "    sum=0\n",
        "    for j in range(5):\n",
        "      sum = sum + random_image[i][j]\n",
        "\n",
        "    rand_raw_sum[i] = sum\n",
        "\n",
        "  for i in range(5):\n",
        "    error_1 = (orig_raw_sum[i] - rand_raw_sum[i])/5\n",
        "    for j in range(5):\n",
        "      random_image[i][j] = random_image[i][j] + error_1\n",
        "\n",
        "  rand_column_sum = np.empty(5, dtype=object)\n",
        "  rand_column_sum = np.sum(random_image,axis=1) \n",
        "  rand_diag_main_1 = np.trace(random_image, offset=3)\n",
        "  rand_diag_main_2 = np.trace(random_image, offset=2)\n",
        "  rand_diag_main_3 = np.trace(random_image, offset=1)\n",
        "\n",
        "  rand_diag_main_m = np.trace(random_image, offset=0)\n",
        "\n",
        "  rand_diag_main_5 = np.trace(random_image, offset=-1)\n",
        "  rand_diag_main_6 = np.trace(random_image, offset=-2)\n",
        "  rand_diag_main_7 = np.trace(random_image, offset=-3)\n",
        "\n",
        "\n",
        "  rand_diag_sub_1 = random_image[::-1].trace(offset=-3)\n",
        "  rand_diag_sub_2 = random_image[::-1].trace(offset=-2)\n",
        "  rand_diag_sub_3 = random_image[::-1].trace(offset=-1)\n",
        "\n",
        "  rand_diag_sub_m = random_image[::-1].trace(offset=0)\n",
        "\n",
        "  rand_diag_sub_5 = random_image[::-1].trace(offset=1)\n",
        "  rand_diag_sub_6 = random_image[::-1].trace(offset=2)\n",
        "  rand_diag_sub_7 = random_image[::-1].trace(offset=3)\n",
        "\n",
        "  # column correction\n",
        " \n",
        "\n",
        "  for i in range(5):\n",
        "    sum=0\n",
        "    for j in range(5):\n",
        "      sum = sum + random_image[j][i]\n",
        "\n",
        "    rand_column_sum[i] = sum\n",
        "\n",
        "\n",
        "  for i in range(5):\n",
        "    error_2 = (orig_column_sum[i] - rand_column_sum[i])/5\n",
        "    for j in range(5):\n",
        "      random_image[j][i] = random_image[j][i] + error_2\n",
        "\n",
        "  rand_raw_sum = np.empty(5, dtype=object)\n",
        "  rand_raw_sum = np.sum(random_image,axis=1) \n",
        "  rand_diag_main_1 = np.trace(random_image, offset=3)\n",
        "  rand_diag_main_2 = np.trace(random_image, offset=2)\n",
        "  rand_diag_main_3 = np.trace(random_image, offset=1)\n",
        "\n",
        "  rand_diag_main_m = np.trace(random_image, offset=0)\n",
        "\n",
        "  rand_diag_main_5 = np.trace(random_image, offset=-1)\n",
        "  rand_diag_main_6 = np.trace(random_image, offset=-2)\n",
        "  rand_diag_main_7 = np.trace(random_image, offset=-3)\n",
        "\n",
        "\n",
        "  rand_diag_sub_1 = random_image[::-1].trace(offset=-3)\n",
        "  rand_diag_sub_2 = random_image[::-1].trace(offset=-2)\n",
        "  rand_diag_sub_3 = random_image[::-1].trace(offset=-1)\n",
        "\n",
        "  rand_diag_sub_m = random_image[::-1].trace(offset=0)\n",
        "\n",
        "  rand_diag_sub_5 = random_image[::-1].trace(offset=1)\n",
        "  rand_diag_sub_6 = random_image[::-1].trace(offset=2)\n",
        "  rand_diag_sub_7 = random_image[::-1].trace(offset=3)\n",
        "\n",
        "  # main diagonal 1\n",
        "  error_3 = (orig_diag_main_1 - rand_diag_main_1)/2\n",
        "\n",
        "  random_image[0][3] = random_image[0][3] + error_3\n",
        "  random_image[1][4] = random_image[1][4] + error_3\n",
        "\n",
        "  # main diagonal 2\n",
        "  error_4 = (orig_diag_main_2 - rand_diag_main_2)/3\n",
        "\n",
        "  random_image[0][2] = random_image[0][2] + error_4\n",
        "  random_image[1][3] = random_image[1][3] + error_4\n",
        "  random_image[2][4] = random_image[2][4] + error_4\n",
        "\n",
        "  # main diagonal 3\n",
        "  error_5 = (orig_diag_main_3 - rand_diag_main_3)/4\n",
        "\n",
        "  random_image[0][1] = random_image[0][1] + error_5\n",
        "  random_image[1][2] = random_image[1][2] + error_5\n",
        "  random_image[2][3] = random_image[2][3] + error_5\n",
        "  random_image[3][4] = random_image[3][4] + error_5\n",
        "\n",
        "  # main diagonal main\n",
        "  error_6 = (orig_diag_main_m - rand_diag_main_m)/5\n",
        "\n",
        "  random_image[0][0] = random_image[0][0] + error_6\n",
        "  random_image[1][1] = random_image[1][1] + error_6\n",
        "  random_image[2][2] = random_image[2][2] + error_6\n",
        "  random_image[3][3] = random_image[3][3] + error_6\n",
        "  random_image[4][4] = random_image[4][4] + error_6\n",
        "\n",
        "  # main diagonal 5\n",
        "  error_7 = (orig_diag_main_5 - rand_diag_main_5)/4\n",
        "\n",
        "  random_image[1][0] = random_image[1][0] + error_7\n",
        "  random_image[2][1] = random_image[2][1] + error_7\n",
        "  random_image[3][2] = random_image[3][2] + error_7\n",
        "  random_image[4][3] = random_image[4][3] + error_7\n",
        "\n",
        "  # main diagonal 6\n",
        "  error_8 = (orig_diag_main_6 - rand_diag_main_6)/3\n",
        "\n",
        "  random_image[2][0] = random_image[2][0] + error_8\n",
        "  random_image[3][1] = random_image[3][1] + error_8\n",
        "  random_image[4][2] = random_image[4][2] + error_8\n",
        "\n",
        "  # main diagonal 7\n",
        "  error_9 = (orig_diag_main_7 - rand_diag_main_7)/2\n",
        "\n",
        "  random_image[3][0] = random_image[3][0] + error_9\n",
        "  random_image[4][1] = random_image[4][1] + error_9\n",
        "\n",
        "  rand_raw_sum = np.empty(5, dtype=object)\n",
        "  rand_raw_sum = np.sum(random_image,axis=1) \n",
        "\n",
        "  rand_column_sum = np.empty(5, dtype=object)\n",
        "  rand_column_sum = np.sum(random_image,axis=1) \n",
        "\n",
        "  rand_diag_sub_1 = random_image[::-1].trace(offset=-3)\n",
        "  rand_diag_sub_2 = random_image[::-1].trace(offset=-2)\n",
        "  rand_diag_sub_3 = random_image[::-1].trace(offset=-1)\n",
        "\n",
        "  rand_diag_sub_m = random_image[::-1].trace(offset=0)\n",
        "\n",
        "  rand_diag_sub_5 = random_image[::-1].trace(offset=1)\n",
        "  rand_diag_sub_6 = random_image[::-1].trace(offset=2)\n",
        "  rand_diag_sub_7 = random_image[::-1].trace(offset=3)\n",
        "\n",
        "\n",
        "\n",
        "  # sub diagonal 1\n",
        "  error_10 = (orig_diag_sub_1 - rand_diag_sub_1)/2\n",
        "\n",
        "  random_image[0][1] = random_image[0][1] + error_10\n",
        "  random_image[1][0] = random_image[1][0] + error_10\n",
        "\n",
        "  # sub diagonal 2\n",
        "  error_11 = (orig_diag_sub_2 - rand_diag_sub_2)/3\n",
        "\n",
        "  random_image[0][2] = random_image[0][2] + error_11\n",
        "  random_image[1][1] = random_image[1][1] + error_11\n",
        "  random_image[2][0] = random_image[2][0] + error_11\n",
        "\n",
        "  # sub diagonal 3\n",
        "  error_12 = (orig_diag_sub_3 - rand_diag_sub_3)/4\n",
        "\n",
        "  random_image[0][3] = random_image[0][3] + error_12\n",
        "  random_image[1][2] = random_image[1][2] + error_12\n",
        "  random_image[2][1] = random_image[2][1] + error_12\n",
        "  random_image[3][0] = random_image[3][0] + error_12\n",
        "\n",
        "  # sub diagonal main\n",
        "  error_13 = (orig_diag_sub_m - rand_diag_sub_m)/5\n",
        "\n",
        "  random_image[0][4] = random_image[0][4] + error_13\n",
        "  random_image[1][3] = random_image[1][3] + error_13\n",
        "  random_image[2][2] = random_image[2][2] + error_13\n",
        "  random_image[3][1] = random_image[3][1] + error_13\n",
        "  random_image[4][0] = random_image[4][0] + error_13\n",
        "\n",
        "  # sub diagonal 5\n",
        "  error_14 = (orig_diag_sub_5 - rand_diag_sub_5)/4\n",
        "\n",
        "  random_image[1][4] = random_image[1][4] + error_14\n",
        "  random_image[2][3] = random_image[2][3] + error_14\n",
        "  random_image[3][2] = random_image[3][2] + error_14\n",
        "  random_image[4][1] = random_image[4][1] + error_14\n",
        "\n",
        "  # sub diagonal 6\n",
        "  error_15 = (orig_diag_sub_6 - rand_diag_sub_6)/3\n",
        "\n",
        "  random_image[2][4] = random_image[2][4] + error_15\n",
        "  random_image[3][3] = random_image[3][3] + error_15\n",
        "  random_image[4][2] = random_image[4][2] + error_15\n",
        "\n",
        "  # sub diagonal 7\n",
        "  error_16 = (orig_diag_sub_7 - rand_diag_sub_7)/2\n",
        "\n",
        "  random_image[3][4] = random_image[3][4] + error_16\n",
        "  random_image[4][3] = random_image[4][3] + error_16\n",
        "\n",
        "  rand_raw_sum = np.empty(5, dtype=object)\n",
        "  rand_raw_sum = np.sum(random_image,axis=1) \n",
        "\n",
        "  rand_column_sum = np.empty(5, dtype=object)\n",
        "  rand_column_sum = np.sum(random_image,axis=1)\n",
        "\n",
        "  rand_diag_main_1 = np.trace(random_image, offset=3)\n",
        "  rand_diag_main_2 = np.trace(random_image, offset=2)\n",
        "  rand_diag_main_3 = np.trace(random_image, offset=1)\n",
        "\n",
        "  rand_diag_main_m = np.trace(random_image, offset=0)\n",
        "\n",
        "  rand_diag_main_5 = np.trace(random_image, offset=-1)\n",
        "  rand_diag_main_6 = np.trace(random_image, offset=-2)\n",
        "  rand_diag_main_7 = np.trace(random_image, offset=-3)\n",
        "\n",
        "  err.append(np.absolute(error_1) + np.absolute(error_2) + np.absolute(error_3) + np.absolute(error_4) + np.absolute(error_5) + np.absolute(error_6) + np.absolute(error_7)\n",
        "   + np.absolute(error_8) + np.absolute(error_9) + np.absolute(error_10) + np.absolute(error_11) + np.absolute(error_12) + np.absolute(error_13) + np.absolute(error_14) \n",
        "   + np.absolute(error_15) + np.absolute(error_16))\n",
        "  \n",
        "  if(err[k] <= 0.01):\n",
        "    break\n",
        "  k+=1"
      ],
      "execution_count": 7,
      "outputs": []
    },
    {
      "cell_type": "code",
      "metadata": {
        "colab": {
          "base_uri": "https://localhost:8080/"
        },
        "id": "3Gsy8WkibAHD",
        "outputId": "33ea23c8-51bb-488a-bcda-dc1407ca3508"
      },
      "source": [
        "err"
      ],
      "execution_count": 8,
      "outputs": [
        {
          "output_type": "execute_result",
          "data": {
            "text/plain": [
              "[15.968,\n",
              " 6.075249629629627,\n",
              " 4.2364902584362145,\n",
              " 3.1180220791915882,\n",
              " 2.2993016445161016,\n",
              " 1.7181328383850838,\n",
              " 1.2869432595931045,\n",
              " 0.9673183144811599,\n",
              " 0.73261620863469,\n",
              " 0.5565146356686288,\n",
              " 0.42311408343645457,\n",
              " 0.3219838763603552,\n",
              " 0.24525326666900457,\n",
              " 0.18698312223908314,\n",
              " 0.14269064623755837,\n",
              " 0.10899063515840224,\n",
              " 0.08332508869908838,\n",
              " 0.06375958793571926,\n",
              " 0.04883001762174792,\n",
              " 0.03742719155849663,\n",
              " 0.028709988221072593,\n",
              " 0.022119218274827962,\n",
              " 0.01706927562322269,\n",
              " 0.013178095766223011,\n",
              " 0.010178225378565386,\n",
              " 0.007864354828845333]"
            ]
          },
          "metadata": {
            "tags": []
          },
          "execution_count": 8
        }
      ]
    },
    {
      "cell_type": "code",
      "metadata": {
        "colab": {
          "base_uri": "https://localhost:8080/",
          "height": 366
        },
        "id": "pI8RK65NbCao",
        "outputId": "24782580-52bc-4145-8f05-8da3e7d49174"
      },
      "source": [
        "import matplotlib.pyplot as plt\n",
        "\n",
        "print(original_image)\n",
        "plt.imshow(original_image)"
      ],
      "execution_count": 9,
      "outputs": [
        {
          "output_type": "stream",
          "text": [
            "[[8 9 2 4 9]\n",
            " [5 2 8 5 1]\n",
            " [7 8 2 4 6]\n",
            " [7 7 8 2 8]\n",
            " [3 5 5 9 7]]\n"
          ],
          "name": "stdout"
        },
        {
          "output_type": "execute_result",
          "data": {
            "text/plain": [
              "<matplotlib.image.AxesImage at 0x7f46a31abed0>"
            ]
          },
          "metadata": {
            "tags": []
          },
          "execution_count": 9
        },
        {
          "output_type": "display_data",
          "data": {
            "image/png": "[encoded data removed]",
            "text/plain": [
              "<Figure size 432x288 with 1 Axes>"
            ]
          },
          "metadata": {
            "tags": [],
            "needs_background": "light"
          }
        }
      ]
    },
    {
      "cell_type": "code",
      "metadata": {
        "colab": {
          "base_uri": "https://localhost:8080/",
          "height": 366
        },
        "id": "iaUI9Ug4bJoI",
        "outputId": "58f237c2-8d2b-40d8-ecbb-9466541b8c27"
      },
      "source": [
        "print(random_image)\n",
        "plt.imshow(random_image)"
      ],
      "execution_count": 10,
      "outputs": [
        {
          "output_type": "stream",
          "text": [
            "[[7.99709624 7.50012938 3.7995588  3.70000476 9.00168746]\n",
            " [6.49987062 1.7010549  7.19986586 4.29747334 1.29995328]\n",
            " [5.4993863  9.10012461 1.99990062 5.49991734 4.89952448]\n",
            " [7.00000476 7.69781834 6.20017609 2.30112354 8.80012938]\n",
            " [3.00312025 4.99995328 5.79935198 8.19987062 6.99738132]]\n"
          ],
          "name": "stdout"
        },
        {
          "output_type": "execute_result",
          "data": {
            "text/plain": [
              "<matplotlib.image.AxesImage at 0x7f46a2cb5990>"
            ]
          },
          "metadata": {
            "tags": []
          },
          "execution_count": 10
        },
        {
          "output_type": "display_data",
          "data": {
            "image/png": "[encoded data removed]",
            "text/plain": [
              "<Figure size 432x288 with 1 Axes>"
            ]
          },
          "metadata": {
            "tags": [],
            "needs_background": "light"
          }
        }
      ]
    },
    {
      "cell_type": "code",
      "metadata": {
        "colab": {
          "base_uri": "https://localhost:8080/",
          "height": 295
        },
        "id": "KpjugGd1bJmC",
        "outputId": "2a893e80-2701-41dc-9efb-e5c0375746a9"
      },
      "source": [
        "plt.plot(err)\n",
        "plt.title('Error curve')\n",
        "plt.ylabel('loss')\n",
        "plt.xlabel('epoch')\n",
        "plt.legend(['Error'], loc='upper left')\n",
        "plt.show()"
      ],
      "execution_count": 11,
      "outputs": [
        {
          "output_type": "display_data",
          "data": {
            "image/png": "[encoded data removed]",
            "text/plain": [
              "<Figure size 432x288 with 1 Axes>"
            ]
          },
          "metadata": {
            "tags": [],
            "needs_background": "light"
          }
        }
      ]
    },
    {
      "cell_type": "markdown",
      "metadata": {
        "id": "X2n75vr5ix8W"
      },
      "source": [
        "# Linear algebra method"
      ]
    },
    {
      "cell_type": "code",
      "metadata": {
        "id": "3vupTlIPbJh1"
      },
      "source": [
        "array_matrix = np.zeros((25,25))"
      ],
      "execution_count": 12,
      "outputs": []
    },
    {
      "cell_type": "code",
      "metadata": {
        "id": "2EZvq3CfbJf9"
      },
      "source": [
        "for i in range(5):\n",
        "  for j in range(5):\n",
        "    array_matrix[i][5*i+j]=1\n",
        "    array_matrix[i+5][i+5*j]=1"
      ],
      "execution_count": 13,
      "outputs": []
    },
    {
      "cell_type": "code",
      "metadata": {
        "id": "myzbNNMqmvNX"
      },
      "source": [
        "array_matrix[10][4] = 1\n",
        "array_matrix[11][3], array_matrix[11][9] = 1,1\n",
        "array_matrix[12][2], array_matrix[12][8], array_matrix[12][14] = 1,1,1\n",
        "array_matrix[13][1], array_matrix[13][7], array_matrix[13][13], array_matrix[13][19] = 1,1,1,1\n",
        "array_matrix[14][0], array_matrix[14][6], array_matrix[14][12], array_matrix[14][18], array_matrix[14][24] = 1,1,1,1,1\n",
        "array_matrix[15][5], array_matrix[15][11], array_matrix[15][17], array_matrix[15][23] = 1,1,1,1\n",
        "array_matrix[16][10], array_matrix[16][16], array_matrix[16][22] = 1,1,1\n",
        "array_matrix[17][15], array_matrix[17][21] = 1,1\n",
        "array_matrix[18][20] = 1\n",
        "\n",
        "array_matrix[19][1], array_matrix[19][5] = 1,1\n",
        "array_matrix[20][2], array_matrix[20][6], array_matrix[20][10] = 1,1,1\n",
        "array_matrix[21][3], array_matrix[21][7], array_matrix[21][11], array_matrix[21][15] = 1,1,1,1\n",
        "array_matrix[22][4], array_matrix[22][8], array_matrix[22][12], array_matrix[22][16], array_matrix[22][20] = 1,1,1,1,1\n",
        "array_matrix[23][9], array_matrix[23][13], array_matrix[23][17], array_matrix[23][21] = 1,1,1,1\n",
        "array_matrix[24][14], array_matrix[24][18], array_matrix[24][22] = 1,1,1\n"
      ],
      "execution_count": 14,
      "outputs": []
    },
    {
      "cell_type": "code",
      "metadata": {
        "id": "X-btqiYrbJdg"
      },
      "source": [
        "# array_matrix"
      ],
      "execution_count": 15,
      "outputs": []
    },
    {
      "cell_type": "code",
      "metadata": {
        "id": "69OmlY0jbJZi"
      },
      "source": [
        "target_matrix = np.zeros((25,1))"
      ],
      "execution_count": 16,
      "outputs": []
    },
    {
      "cell_type": "code",
      "metadata": {
        "id": "zkd6bz4SbJXg"
      },
      "source": [
        "target_matrix[0:5] = orig_column_sum.reshape(5,1)\n",
        "target_matrix[5:10] = orig_raw_sum.reshape(5,1)\n",
        "\n",
        "target_matrix[10]= original_image[0][4]\n",
        "target_matrix[11]= orig_diag_main_1 \n",
        "target_matrix[12]= orig_diag_main_2 \n",
        "target_matrix[13]= orig_diag_main_3 \n",
        "\n",
        "target_matrix[14]= orig_diag_main_m \n",
        "\n",
        "target_matrix[15]= orig_diag_main_5 \n",
        "target_matrix[16]= orig_diag_main_6 \n",
        "target_matrix[17]= orig_diag_main_7 \n",
        "target_matrix[18]= original_image[4][0]\n",
        "\n",
        "target_matrix[19]= orig_diag_sub_1\n",
        "target_matrix[20]= orig_diag_sub_2\n",
        "target_matrix[21]= orig_diag_sub_3\n",
        "\n",
        "target_matrix[22]= orig_diag_sub_m\n",
        "\n",
        "target_matrix[23]= orig_diag_sub_5\n",
        "target_matrix[24]= orig_diag_sub_6"
      ],
      "execution_count": 17,
      "outputs": []
    },
    {
      "cell_type": "code",
      "metadata": {
        "id": "PpBrbA7wush7"
      },
      "source": [
        "x = np.linalg.solve(array_matrix, target_matrix)"
      ],
      "execution_count": 18,
      "outputs": []
    },
    {
      "cell_type": "code",
      "metadata": {
        "id": "5QF6R_NZusfw"
      },
      "source": [
        "recons_image = x.reshape(5,5)"
      ],
      "execution_count": 19,
      "outputs": []
    },
    {
      "cell_type": "code",
      "metadata": {
        "colab": {
          "base_uri": "https://localhost:8080/",
          "height": 366
        },
        "id": "R-3YCPr4usZe",
        "outputId": "1397eb1d-8d66-427f-f7ba-c2a2cbd18538"
      },
      "source": [
        "print(original_image)\n",
        "plt.imshow(original_image)"
      ],
      "execution_count": 20,
      "outputs": [
        {
          "output_type": "stream",
          "text": [
            "[[8 9 2 4 9]\n",
            " [5 2 8 5 1]\n",
            " [7 8 2 4 6]\n",
            " [7 7 8 2 8]\n",
            " [3 5 5 9 7]]\n"
          ],
          "name": "stdout"
        },
        {
          "output_type": "execute_result",
          "data": {
            "text/plain": [
              "<matplotlib.image.AxesImage at 0x7f46a2bc43d0>"
            ]
          },
          "metadata": {
            "tags": []
          },
          "execution_count": 20
        },
        {
          "output_type": "display_data",
          "data": {
            "image/png": "[encoded data removed]",
            "text/plain": [
              "<Figure size 432x288 with 1 Axes>"
            ]
          },
          "metadata": {
            "tags": [],
            "needs_background": "light"
          }
        }
      ]
    },
    {
      "cell_type": "code",
      "metadata": {
        "colab": {
          "base_uri": "https://localhost:8080/",
          "height": 450
        },
        "id": "3XmwRHACusW5",
        "outputId": "18192f5f-800c-4076-df2c-13fb0372890c"
      },
      "source": [
        "print(recons_image)\n",
        "plt.imshow(recons_image)"
      ],
      "execution_count": 22,
      "outputs": [
        {
          "output_type": "stream",
          "text": [
            "[[ 8.00000000e+00 -4.50772198e+15  5.17993149e+16 -4.72915929e+16\n",
            "   8.00000000e+00]\n",
            " [ 4.50772198e+15 -4.13380861e+16  1.42884164e+16 -2.47496453e+16\n",
            "   4.72915929e+16]\n",
            " [-1.04612288e+16  2.70496696e+16 -3.00000000e+00  1.04612288e+16\n",
            "  -2.70496696e+16]\n",
            " [ 5.95350685e+15  2.47496453e+16 -5.17993149e+16  4.13380861e+16\n",
            "  -2.02419233e+16]\n",
            " [ 2.99224610e+00 -5.95350685e+15 -1.42884164e+16  2.02419233e+16\n",
            "   8.41762452e+00]]\n"
          ],
          "name": "stdout"
        },
        {
          "output_type": "execute_result",
          "data": {
            "text/plain": [
              "<matplotlib.image.AxesImage at 0x7f469ab09e90>"
            ]
          },
          "metadata": {
            "tags": []
          },
          "execution_count": 22
        },
        {
          "output_type": "display_data",
          "data": {
            "image/png": "[encoded data removed]",
            "text/plain": [
              "<Figure size 432x288 with 1 Axes>"
            ]
          },
          "metadata": {
            "tags": [],
            "needs_background": "light"
          }
        }
      ]
    },
    {
      "cell_type": "code",
      "metadata": {
        "id": "tZa1pL2d6Cvc"
      },
      "source": [
        ""
      ],
      "execution_count": null,
      "outputs": []
    }
  ]
}